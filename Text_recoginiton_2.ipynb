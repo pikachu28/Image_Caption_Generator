{
 "cells": [
  {
   "cell_type": "code",
   "execution_count": 1,
   "metadata": {},
   "outputs": [],
   "source": [
    "import os\n",
    "import pandas as pd\n",
    "import numpy as np\n",
    "import matplotlib.pyplot as plt\n",
    "%matplotlib inline\n",
    "from PIL import Image\n",
    "from skimage.io import imread, imshow\n",
    "import cv2\n",
    "from keras.preprocessing.text import Tokenizer\n",
    "from keras.preprocessing.sequence import pad_sequences\n",
    "from tensorflow.keras.utils import to_categorical\n",
    "from tensorflow.keras.models import Sequential\n",
    "from keras.layers.merge import add\n",
    "from keras.models import Model, load_model\n",
    "from keras.layers import Input, Dense, LSTM, Embedding, Dropout\n",
    "from keras.preprocessing.text import Tokenizer\n",
    "from tensorflow.keras.utils import plot_model\n",
    "from sklearn import model_selection"
   ]
  },
  {
   "cell_type": "code",
   "execution_count": 2,
   "metadata": {},
   "outputs": [],
   "source": [
    "# Extract features from the image\n",
    "imagePath  = \"/Users/anjalisingh/Downloads/memes_final_27.7/finalmemes_bw\"\n",
    "images = os.listdir(imagePath)\n",
    "images.remove('.DS_Store')\n",
    "#images"
   ]
  },
  {
   "cell_type": "code",
   "execution_count": 3,
   "metadata": {},
   "outputs": [],
   "source": [
    "def extract_features(images):\n",
    "    features = {}\n",
    "    for i in images:\n",
    "        image = imread(imagePath+\"/\"+i, as_gray=True) \n",
    "        s=(300,300)\n",
    "        image = cv2.resize(image,s)\n",
    "        #print(image.shape)\n",
    "        features[i] = np.reshape(image, (300*300))\n",
    "    return features\n",
    "features = extract_features(images)"
   ]
  },
  {
   "cell_type": "code",
   "execution_count": 4,
   "metadata": {},
   "outputs": [
    {
     "data": {
      "text/html": [
       "<div>\n",
       "<style scoped>\n",
       "    .dataframe tbody tr th:only-of-type {\n",
       "        vertical-align: middle;\n",
       "    }\n",
       "\n",
       "    .dataframe tbody tr th {\n",
       "        vertical-align: top;\n",
       "    }\n",
       "\n",
       "    .dataframe thead th {\n",
       "        text-align: right;\n",
       "    }\n",
       "</style>\n",
       "<table border=\"1\" class=\"dataframe\">\n",
       "  <thead>\n",
       "    <tr style=\"text-align: right;\">\n",
       "      <th></th>\n",
       "      <th>s.no.</th>\n",
       "      <th>img_id</th>\n",
       "      <th>caption</th>\n",
       "      <th>top</th>\n",
       "      <th>bottom</th>\n",
       "    </tr>\n",
       "  </thead>\n",
       "  <tbody>\n",
       "    <tr>\n",
       "      <th>0</th>\n",
       "      <td>1</td>\n",
       "      <td>/Y-U-No</td>\n",
       "      <td>meme generator users-y u no give me more upvotes?</td>\n",
       "      <td>meme generator users</td>\n",
       "      <td>y u no give me more upvotes?</td>\n",
       "    </tr>\n",
       "    <tr>\n",
       "      <th>1</th>\n",
       "      <td>2</td>\n",
       "      <td>/Y-U-No</td>\n",
       "      <td>steve jobs-y u no respawn?!</td>\n",
       "      <td>steve jobs</td>\n",
       "      <td>y u no respawn?!</td>\n",
       "    </tr>\n",
       "    <tr>\n",
       "      <th>2</th>\n",
       "      <td>3</td>\n",
       "      <td>/Y-U-No</td>\n",
       "      <td>commercial-y u no same volume as show!?</td>\n",
       "      <td>commercial</td>\n",
       "      <td>y u no same volume as show!?</td>\n",
       "    </tr>\n",
       "    <tr>\n",
       "      <th>3</th>\n",
       "      <td>4</td>\n",
       "      <td>/Y-U-No</td>\n",
       "      <td>Victoria-y u no tell us your secret?!</td>\n",
       "      <td>Victoria</td>\n",
       "      <td>y u no tell us your secret?!</td>\n",
       "    </tr>\n",
       "    <tr>\n",
       "      <th>4</th>\n",
       "      <td>5</td>\n",
       "      <td>/Y-U-No</td>\n",
       "      <td>KONY-Y u no take justin bieber</td>\n",
       "      <td>KONY</td>\n",
       "      <td>Y u no take justin bieber</td>\n",
       "    </tr>\n",
       "  </tbody>\n",
       "</table>\n",
       "</div>"
      ],
      "text/plain": [
       "   s.no.   img_id                                            caption  \\\n",
       "0      1  /Y-U-No  meme generator users-y u no give me more upvotes?   \n",
       "1      2  /Y-U-No                        steve jobs-y u no respawn?!   \n",
       "2      3  /Y-U-No            commercial-y u no same volume as show!?   \n",
       "3      4  /Y-U-No              Victoria-y u no tell us your secret?!   \n",
       "4      5  /Y-U-No                    KONY-Y u no take justin bieber    \n",
       "\n",
       "                    top                        bottom  \n",
       "0  meme generator users  y u no give me more upvotes?  \n",
       "1            steve jobs              y u no respawn?!  \n",
       "2            commercial  y u no same volume as show!?  \n",
       "3              Victoria  y u no tell us your secret?!  \n",
       "4                  KONY    Y u no take justin bieber   "
      ]
     },
     "execution_count": 4,
     "metadata": {},
     "output_type": "execute_result"
    }
   ],
   "source": [
    "memes = pd.read_csv(\"/Users/anjalisingh/Downloads/memes_final_27.7/captions_reduced_8000.csv\")\n",
    "memes.head()"
   ]
  },
  {
   "cell_type": "code",
   "execution_count": 5,
   "metadata": {},
   "outputs": [
    {
     "data": {
      "text/html": [
       "<div>\n",
       "<style scoped>\n",
       "    .dataframe tbody tr th:only-of-type {\n",
       "        vertical-align: middle;\n",
       "    }\n",
       "\n",
       "    .dataframe tbody tr th {\n",
       "        vertical-align: top;\n",
       "    }\n",
       "\n",
       "    .dataframe thead th {\n",
       "        text-align: right;\n",
       "    }\n",
       "</style>\n",
       "<table border=\"1\" class=\"dataframe\">\n",
       "  <thead>\n",
       "    <tr style=\"text-align: right;\">\n",
       "      <th></th>\n",
       "      <th>s.no.</th>\n",
       "      <th>img_id</th>\n",
       "      <th>caption</th>\n",
       "      <th>top</th>\n",
       "      <th>bottom</th>\n",
       "    </tr>\n",
       "  </thead>\n",
       "  <tbody>\n",
       "    <tr>\n",
       "      <th>8310</th>\n",
       "      <td>8312</td>\n",
       "      <td>/Lol-Face</td>\n",
       "      <td>and i will try-to fix you</td>\n",
       "      <td>and i will try</td>\n",
       "      <td>to fix you</td>\n",
       "    </tr>\n",
       "    <tr>\n",
       "      <th>8311</th>\n",
       "      <td>8313</td>\n",
       "      <td>/Lol-Face</td>\n",
       "      <td>Cannot wait to get my nexus 7 in the post-i bo...</td>\n",
       "      <td>Cannot wait to get my nexus 7 in the post</td>\n",
       "      <td>i bought a sd card to expand the memory</td>\n",
       "    </tr>\n",
       "    <tr>\n",
       "      <th>8312</th>\n",
       "      <td>8314</td>\n",
       "      <td>/Lol-Face</td>\n",
       "      <td>elder scrolls online-wooooooooooooooo</td>\n",
       "      <td>elder scrolls online</td>\n",
       "      <td>wooooooooooooooo</td>\n",
       "    </tr>\n",
       "    <tr>\n",
       "      <th>8313</th>\n",
       "      <td>8315</td>\n",
       "      <td>/Lol-Face</td>\n",
       "      <td>lololololololololololololololololololololololo...</td>\n",
       "      <td>lololololololololololololololololololololololol</td>\n",
       "      <td>it happens! :(</td>\n",
       "    </tr>\n",
       "    <tr>\n",
       "      <th>8314</th>\n",
       "      <td>8316</td>\n",
       "      <td>/Lol-Face</td>\n",
       "      <td>Amee-No Longer in TEAM</td>\n",
       "      <td>Amee</td>\n",
       "      <td>No Longer in TEAM</td>\n",
       "    </tr>\n",
       "  </tbody>\n",
       "</table>\n",
       "</div>"
      ],
      "text/plain": [
       "      s.no.     img_id                                            caption  \\\n",
       "8310   8312  /Lol-Face                          and i will try-to fix you   \n",
       "8311   8313  /Lol-Face  Cannot wait to get my nexus 7 in the post-i bo...   \n",
       "8312   8314  /Lol-Face              elder scrolls online-wooooooooooooooo   \n",
       "8313   8315  /Lol-Face  lololololololololololololololololololololololo...   \n",
       "8314   8316  /Lol-Face                             Amee-No Longer in TEAM   \n",
       "\n",
       "                                                  top  \\\n",
       "8310                                   and i will try   \n",
       "8311        Cannot wait to get my nexus 7 in the post   \n",
       "8312                             elder scrolls online   \n",
       "8313  lololololololololololololololololololololololol   \n",
       "8314                                             Amee   \n",
       "\n",
       "                                       bottom  \n",
       "8310                               to fix you  \n",
       "8311  i bought a sd card to expand the memory  \n",
       "8312                         wooooooooooooooo  \n",
       "8313                           it happens! :(  \n",
       "8314                        No Longer in TEAM  "
      ]
     },
     "execution_count": 5,
     "metadata": {},
     "output_type": "execute_result"
    }
   ],
   "source": [
    "memes.tail()"
   ]
  },
  {
   "cell_type": "code",
   "execution_count": 6,
   "metadata": {},
   "outputs": [
    {
     "name": "stdout",
     "output_type": "stream",
     "text": [
      "8315\n"
     ]
    }
   ],
   "source": [
    "print(len(memes))\n",
    "# test 20%---> 1663 \n",
    "m=6652"
   ]
  },
  {
   "cell_type": "code",
   "execution_count": 7,
   "metadata": {},
   "outputs": [],
   "source": [
    "memes = memes.dropna(axis=0)"
   ]
  },
  {
   "cell_type": "code",
   "execution_count": 8,
   "metadata": {},
   "outputs": [
    {
     "name": "stdout",
     "output_type": "stream",
     "text": [
      "8315\n"
     ]
    }
   ],
   "source": [
    "print(len(memes))"
   ]
  },
  {
   "cell_type": "code",
   "execution_count": 9,
   "metadata": {},
   "outputs": [
    {
     "name": "stderr",
     "output_type": "stream",
     "text": [
      "/usr/local/anaconda3/lib/python3.7/site-packages/ipykernel_launcher.py:3: SettingWithCopyWarning: \n",
      "A value is trying to be set on a copy of a slice from a DataFrame\n",
      "\n",
      "See the caveats in the documentation: https://pandas.pydata.org/pandas-docs/stable/user_guide/indexing.html#returning-a-view-versus-a-copy\n",
      "  This is separate from the ipykernel package so we can avoid doing imports until\n"
     ]
    }
   ],
   "source": [
    "memes['Key'] = \"ABC\"\n",
    "for i in range(0,len(memes)):\n",
    "    memes['Key'][i] = \"meme\"+str(i+1)+'.jpg'"
   ]
  },
  {
   "cell_type": "code",
   "execution_count": 10,
   "metadata": {},
   "outputs": [
    {
     "data": {
      "text/html": [
       "<div>\n",
       "<style scoped>\n",
       "    .dataframe tbody tr th:only-of-type {\n",
       "        vertical-align: middle;\n",
       "    }\n",
       "\n",
       "    .dataframe tbody tr th {\n",
       "        vertical-align: top;\n",
       "    }\n",
       "\n",
       "    .dataframe thead th {\n",
       "        text-align: right;\n",
       "    }\n",
       "</style>\n",
       "<table border=\"1\" class=\"dataframe\">\n",
       "  <thead>\n",
       "    <tr style=\"text-align: right;\">\n",
       "      <th></th>\n",
       "      <th>s.no.</th>\n",
       "      <th>img_id</th>\n",
       "      <th>caption</th>\n",
       "      <th>top</th>\n",
       "      <th>bottom</th>\n",
       "      <th>Key</th>\n",
       "    </tr>\n",
       "  </thead>\n",
       "  <tbody>\n",
       "    <tr>\n",
       "      <th>0</th>\n",
       "      <td>1</td>\n",
       "      <td>/Y-U-No</td>\n",
       "      <td>meme generator users-y u no give me more upvotes?</td>\n",
       "      <td>meme generator users</td>\n",
       "      <td>y u no give me more upvotes?</td>\n",
       "      <td>meme1.jpg</td>\n",
       "    </tr>\n",
       "    <tr>\n",
       "      <th>1</th>\n",
       "      <td>2</td>\n",
       "      <td>/Y-U-No</td>\n",
       "      <td>steve jobs-y u no respawn?!</td>\n",
       "      <td>steve jobs</td>\n",
       "      <td>y u no respawn?!</td>\n",
       "      <td>meme2.jpg</td>\n",
       "    </tr>\n",
       "    <tr>\n",
       "      <th>2</th>\n",
       "      <td>3</td>\n",
       "      <td>/Y-U-No</td>\n",
       "      <td>commercial-y u no same volume as show!?</td>\n",
       "      <td>commercial</td>\n",
       "      <td>y u no same volume as show!?</td>\n",
       "      <td>meme3.jpg</td>\n",
       "    </tr>\n",
       "    <tr>\n",
       "      <th>3</th>\n",
       "      <td>4</td>\n",
       "      <td>/Y-U-No</td>\n",
       "      <td>Victoria-y u no tell us your secret?!</td>\n",
       "      <td>Victoria</td>\n",
       "      <td>y u no tell us your secret?!</td>\n",
       "      <td>meme4.jpg</td>\n",
       "    </tr>\n",
       "    <tr>\n",
       "      <th>4</th>\n",
       "      <td>5</td>\n",
       "      <td>/Y-U-No</td>\n",
       "      <td>KONY-Y u no take justin bieber</td>\n",
       "      <td>KONY</td>\n",
       "      <td>Y u no take justin bieber</td>\n",
       "      <td>meme5.jpg</td>\n",
       "    </tr>\n",
       "    <tr>\n",
       "      <th>...</th>\n",
       "      <td>...</td>\n",
       "      <td>...</td>\n",
       "      <td>...</td>\n",
       "      <td>...</td>\n",
       "      <td>...</td>\n",
       "      <td>...</td>\n",
       "    </tr>\n",
       "    <tr>\n",
       "      <th>8310</th>\n",
       "      <td>8312</td>\n",
       "      <td>/Lol-Face</td>\n",
       "      <td>and i will try-to fix you</td>\n",
       "      <td>and i will try</td>\n",
       "      <td>to fix you</td>\n",
       "      <td>meme8311.jpg</td>\n",
       "    </tr>\n",
       "    <tr>\n",
       "      <th>8311</th>\n",
       "      <td>8313</td>\n",
       "      <td>/Lol-Face</td>\n",
       "      <td>Cannot wait to get my nexus 7 in the post-i bo...</td>\n",
       "      <td>Cannot wait to get my nexus 7 in the post</td>\n",
       "      <td>i bought a sd card to expand the memory</td>\n",
       "      <td>meme8312.jpg</td>\n",
       "    </tr>\n",
       "    <tr>\n",
       "      <th>8312</th>\n",
       "      <td>8314</td>\n",
       "      <td>/Lol-Face</td>\n",
       "      <td>elder scrolls online-wooooooooooooooo</td>\n",
       "      <td>elder scrolls online</td>\n",
       "      <td>wooooooooooooooo</td>\n",
       "      <td>meme8313.jpg</td>\n",
       "    </tr>\n",
       "    <tr>\n",
       "      <th>8313</th>\n",
       "      <td>8315</td>\n",
       "      <td>/Lol-Face</td>\n",
       "      <td>lololololololololololololololololololololololo...</td>\n",
       "      <td>lololololololololololololololololololololololol</td>\n",
       "      <td>it happens! :(</td>\n",
       "      <td>meme8314.jpg</td>\n",
       "    </tr>\n",
       "    <tr>\n",
       "      <th>8314</th>\n",
       "      <td>8316</td>\n",
       "      <td>/Lol-Face</td>\n",
       "      <td>Amee-No Longer in TEAM</td>\n",
       "      <td>Amee</td>\n",
       "      <td>No Longer in TEAM</td>\n",
       "      <td>meme8315.jpg</td>\n",
       "    </tr>\n",
       "  </tbody>\n",
       "</table>\n",
       "<p>8315 rows × 6 columns</p>\n",
       "</div>"
      ],
      "text/plain": [
       "      s.no.     img_id                                            caption  \\\n",
       "0         1    /Y-U-No  meme generator users-y u no give me more upvotes?   \n",
       "1         2    /Y-U-No                        steve jobs-y u no respawn?!   \n",
       "2         3    /Y-U-No            commercial-y u no same volume as show!?   \n",
       "3         4    /Y-U-No              Victoria-y u no tell us your secret?!   \n",
       "4         5    /Y-U-No                    KONY-Y u no take justin bieber    \n",
       "...     ...        ...                                                ...   \n",
       "8310   8312  /Lol-Face                          and i will try-to fix you   \n",
       "8311   8313  /Lol-Face  Cannot wait to get my nexus 7 in the post-i bo...   \n",
       "8312   8314  /Lol-Face              elder scrolls online-wooooooooooooooo   \n",
       "8313   8315  /Lol-Face  lololololololololololololololololololololololo...   \n",
       "8314   8316  /Lol-Face                             Amee-No Longer in TEAM   \n",
       "\n",
       "                                                  top  \\\n",
       "0                                meme generator users   \n",
       "1                                          steve jobs   \n",
       "2                                          commercial   \n",
       "3                                            Victoria   \n",
       "4                                                KONY   \n",
       "...                                               ...   \n",
       "8310                                   and i will try   \n",
       "8311        Cannot wait to get my nexus 7 in the post   \n",
       "8312                             elder scrolls online   \n",
       "8313  lololololololololololololololololololololololol   \n",
       "8314                                             Amee   \n",
       "\n",
       "                                       bottom           Key  \n",
       "0                y u no give me more upvotes?     meme1.jpg  \n",
       "1                            y u no respawn?!     meme2.jpg  \n",
       "2                y u no same volume as show!?     meme3.jpg  \n",
       "3                y u no tell us your secret?!     meme4.jpg  \n",
       "4                  Y u no take justin bieber      meme5.jpg  \n",
       "...                                       ...           ...  \n",
       "8310                               to fix you  meme8311.jpg  \n",
       "8311  i bought a sd card to expand the memory  meme8312.jpg  \n",
       "8312                         wooooooooooooooo  meme8313.jpg  \n",
       "8313                           it happens! :(  meme8314.jpg  \n",
       "8314                        No Longer in TEAM  meme8315.jpg  \n",
       "\n",
       "[8315 rows x 6 columns]"
      ]
     },
     "execution_count": 10,
     "metadata": {},
     "output_type": "execute_result"
    }
   ],
   "source": [
    "memes"
   ]
  },
  {
   "cell_type": "code",
   "execution_count": 11,
   "metadata": {},
   "outputs": [],
   "source": [
    "from sklearn.utils import shuffle\n",
    "memes = shuffle(memes)"
   ]
  },
  {
   "cell_type": "code",
   "execution_count": 43,
   "metadata": {},
   "outputs": [
    {
     "data": {
      "text/plain": [
       "9652"
      ]
     },
     "execution_count": 43,
     "metadata": {},
     "output_type": "execute_result"
    }
   ],
   "source": [
    "def create_tokenizer(descriptions):\n",
    "    desc=list()\n",
    "    for i in range(m):\n",
    "        desc.append(memes['caption'][i])\n",
    "    tokenizer = Tokenizer()\n",
    "    # fit_on_texts: Updates internal vocabulary based on a list of texts. This method creates the vocabulary \n",
    "    # index based on word frequency\n",
    "    tokenizer.fit_on_texts(desc)\n",
    "    return tokenizer\n",
    "\n",
    "tokenizer = create_tokenizer(memes['caption'])\n",
    "vocab_size = len(tokenizer.word_index) + 1\n",
    "vocab_size"
   ]
  },
  {
   "cell_type": "code",
   "execution_count": 50,
   "metadata": {},
   "outputs": [],
   "source": [
    "word = word_for_id(9651, tokenizer)"
   ]
  },
  {
   "cell_type": "code",
   "execution_count": 51,
   "metadata": {},
   "outputs": [
    {
     "data": {
      "text/plain": [
       "'willpower'"
      ]
     },
     "execution_count": 51,
     "metadata": {},
     "output_type": "execute_result"
    }
   ],
   "source": [
    "word"
   ]
  },
  {
   "cell_type": "code",
   "execution_count": 107,
   "metadata": {},
   "outputs": [
    {
     "data": {
      "text/plain": [
       "47"
      ]
     },
     "execution_count": 107,
     "metadata": {},
     "output_type": "execute_result"
    }
   ],
   "source": [
    "def max_length(descriptions):\n",
    "    desc=list()\n",
    "    for i in range(m):\n",
    "        desc.append(memes['caption'][i])\n",
    "    return max(len(d.split()) for d in desc)\n",
    "\n",
    "max_length = max_length(memes['caption'])\n",
    "max_length"
   ]
  },
  {
   "cell_type": "code",
   "execution_count": 108,
   "metadata": {},
   "outputs": [],
   "source": [
    "# X1, X2, y --> X1: features\n",
    "X1, X2, y = list(), list(), list()\n",
    "for i in range(m):\n",
    "    feat = features[\"meme\"+str(i+1)+\".jpg\"][0]\n",
    "    seq = tokenizer.texts_to_sequences(memes['caption'][i])[0]\n",
    "    #print(len(seq))\n",
    "    for s in range(0, len(seq)):\n",
    "        in_seq, out_seq = seq[:s], seq[s]\n",
    "        in_seq = pad_sequences([in_seq], maxlen=max_length)[0]\n",
    "            # encode output sequence\n",
    "        out_seq = to_categorical([out_seq], num_classes=vocab_size)[0]\n",
    "        X1.append(feat)\n",
    "        X2.append(in_seq)\n",
    "        y.append(out_seq)\n",
    "\n",
    "X2 = np.array(X2)\n",
    "X1 = np.array(X1)\n",
    "y = np.array(y)"
   ]
  },
  {
   "cell_type": "code",
   "execution_count": 109,
   "metadata": {},
   "outputs": [
    {
     "data": {
      "text/plain": [
       "((6520, 47), (6520,), (6520, 9652))"
      ]
     },
     "execution_count": 109,
     "metadata": {},
     "output_type": "execute_result"
    }
   ],
   "source": [
    "X2.shape, X1.shape, y.shape"
   ]
  },
  {
   "cell_type": "code",
   "execution_count": 110,
   "metadata": {},
   "outputs": [],
   "source": [
    "# features from the CNN model squeezed from 2048 to 256 nodes\n",
    "inputs1 = Input(shape=(300,300,1))\n",
    "fe1 = Dropout(0.5)(inputs1)\n",
    "fe2 = Dense(256, activation='relu')(fe1)\n",
    "    \n",
    "# LSTM sequence Model\n",
    "inputs2 = Input(shape=(max_length,))\n",
    "se1 = Embedding(vocab_size, 256, mask_zero=True)(inputs2)\n",
    "se2 = Dropout(0.5)(se1)\n",
    "se3 = LSTM(256)(se2)\n",
    "    \n",
    "# Merging both models\n",
    "decoder1 = add([fe2, se3])\n",
    "decoder2 = Dense(256, activation='relu')(decoder1)\n",
    "outputs = Dense(vocab_size, activation='softmax')(decoder2)\n",
    "    \n",
    "# tie it together [image, seq][word]\n",
    "model = Model(inputs=[inputs1, inputs2], outputs=outputs)\n",
    "# model.layers[2].set_weights([emb_matrix]) \n",
    "# model.layers[2].trainable = False\n",
    "model.compile(loss='categorical_crossentropy', optimizer='adam')"
   ]
  },
  {
   "cell_type": "code",
   "execution_count": 111,
   "metadata": {
    "scrolled": true
   },
   "outputs": [
    {
     "name": "stdout",
     "output_type": "stream",
     "text": [
      "Epoch 1/100\n",
      "WARNING:tensorflow:Model was constructed with shape (None, 300, 300, 1) for input KerasTensor(type_spec=TensorSpec(shape=(None, 300, 300, 1), dtype=tf.float32, name='input_3'), name='input_3', description=\"created by layer 'input_3'\"), but it was called on an input with incompatible shape (None, 1).\n",
      "WARNING:tensorflow:Model was constructed with shape (None, 300, 300, 1) for input KerasTensor(type_spec=TensorSpec(shape=(None, 300, 300, 1), dtype=tf.float32, name='input_3'), name='input_3', description=\"created by layer 'input_3'\"), but it was called on an input with incompatible shape (None, 1).\n",
      "26/26 [==============================] - 13s 348ms/step - loss: 9.0412\n",
      "Epoch 2/100\n",
      "26/26 [==============================] - 9s 359ms/step - loss: 6.4821\n",
      "Epoch 3/100\n",
      "26/26 [==============================] - 9s 363ms/step - loss: 3.1562\n",
      "Epoch 4/100\n",
      "26/26 [==============================] - 9s 361ms/step - loss: 3.0482\n",
      "Epoch 5/100\n",
      "26/26 [==============================] - 11s 407ms/step - loss: 3.0159\n",
      "Epoch 6/100\n",
      "26/26 [==============================] - 10s 403ms/step - loss: 2.9898\n",
      "Epoch 7/100\n",
      "26/26 [==============================] - 11s 432ms/step - loss: 2.9955\n",
      "Epoch 8/100\n",
      "26/26 [==============================] - 17s 647ms/step - loss: 2.9745\n",
      "Epoch 9/100\n",
      "26/26 [==============================] - 10s 381ms/step - loss: 2.9557\n",
      "Epoch 10/100\n",
      "26/26 [==============================] - 11s 424ms/step - loss: 2.9501\n",
      "Epoch 11/100\n",
      "26/26 [==============================] - 11s 406ms/step - loss: 2.9667\n",
      "Epoch 12/100\n",
      "26/26 [==============================] - 11s 419ms/step - loss: 2.9453\n",
      "Epoch 13/100\n",
      "26/26 [==============================] - 11s 433ms/step - loss: 2.9341\n",
      "Epoch 14/100\n",
      "26/26 [==============================] - 10s 384ms/step - loss: 2.9250\n",
      "Epoch 15/100\n",
      "26/26 [==============================] - 10s 401ms/step - loss: 2.9215\n",
      "Epoch 16/100\n",
      "26/26 [==============================] - 12s 476ms/step - loss: 2.9423\n",
      "Epoch 17/100\n",
      "26/26 [==============================] - 11s 421ms/step - loss: 2.9052\n",
      "Epoch 18/100\n",
      "26/26 [==============================] - 11s 425ms/step - loss: 2.9392\n",
      "Epoch 19/100\n",
      "26/26 [==============================] - 10s 385ms/step - loss: 2.9368\n",
      "Epoch 20/100\n",
      "26/26 [==============================] - 9s 346ms/step - loss: 2.9449\n",
      "Epoch 21/100\n",
      "26/26 [==============================] - 9s 359ms/step - loss: 2.9404\n",
      "Epoch 22/100\n",
      "26/26 [==============================] - 9s 359ms/step - loss: 2.9299\n",
      "Epoch 23/100\n",
      "26/26 [==============================] - 9s 341ms/step - loss: 2.9312\n",
      "Epoch 24/100\n",
      "26/26 [==============================] - 10s 366ms/step - loss: 2.9385\n",
      "Epoch 25/100\n",
      "26/26 [==============================] - 9s 363ms/step - loss: 2.9404\n",
      "Epoch 26/100\n",
      "26/26 [==============================] - 9s 351ms/step - loss: 2.9385\n",
      "Epoch 27/100\n",
      "26/26 [==============================] - 9s 360ms/step - loss: 2.9329\n",
      "Epoch 28/100\n",
      "26/26 [==============================] - 9s 344ms/step - loss: 2.9407\n",
      "Epoch 29/100\n",
      "26/26 [==============================] - 9s 344ms/step - loss: 2.9316\n",
      "Epoch 30/100\n",
      "26/26 [==============================] - 9s 364ms/step - loss: 2.9441\n",
      "Epoch 31/100\n",
      "26/26 [==============================] - 9s 362ms/step - loss: 2.9358\n",
      "Epoch 32/100\n",
      "26/26 [==============================] - 9s 349ms/step - loss: 2.9469\n",
      "Epoch 33/100\n",
      "26/26 [==============================] - 9s 343ms/step - loss: 2.9380\n",
      "Epoch 34/100\n",
      "26/26 [==============================] - 9s 343ms/step - loss: 2.9552\n",
      "Epoch 35/100\n",
      "26/26 [==============================] - 9s 364ms/step - loss: 2.9489\n",
      "Epoch 36/100\n",
      "26/26 [==============================] - 9s 356ms/step - loss: 2.9426\n",
      "Epoch 37/100\n",
      "26/26 [==============================] - 9s 336ms/step - loss: 2.9254\n",
      "Epoch 38/100\n",
      "26/26 [==============================] - 9s 338ms/step - loss: 2.9550\n",
      "Epoch 39/100\n",
      "26/26 [==============================] - 9s 349ms/step - loss: 2.9264\n",
      "Epoch 40/100\n",
      "26/26 [==============================] - 9s 328ms/step - loss: 2.9292\n",
      "Epoch 41/100\n",
      "26/26 [==============================] - 9s 355ms/step - loss: 2.9328\n",
      "Epoch 42/100\n",
      "26/26 [==============================] - 9s 349ms/step - loss: 2.9131\n",
      "Epoch 43/100\n",
      "26/26 [==============================] - 9s 349ms/step - loss: 2.9403\n",
      "Epoch 44/100\n",
      "26/26 [==============================] - 9s 358ms/step - loss: 2.9333\n",
      "Epoch 45/100\n",
      "26/26 [==============================] - 9s 356ms/step - loss: 2.9332\n",
      "Epoch 46/100\n",
      "26/26 [==============================] - 9s 355ms/step - loss: 2.9332\n",
      "Epoch 47/100\n",
      "26/26 [==============================] - 9s 354ms/step - loss: 2.9086\n",
      "Epoch 48/100\n",
      "26/26 [==============================] - 9s 340ms/step - loss: 2.9334\n",
      "Epoch 49/100\n",
      "26/26 [==============================] - 9s 337ms/step - loss: 2.9321\n",
      "Epoch 50/100\n",
      "26/26 [==============================] - 9s 357ms/step - loss: 2.9374\n",
      "Epoch 51/100\n",
      "26/26 [==============================] - 9s 351ms/step - loss: 2.9277\n",
      "Epoch 52/100\n",
      "26/26 [==============================] - 9s 362ms/step - loss: 2.9249\n",
      "Epoch 53/100\n",
      "26/26 [==============================] - 10s 366ms/step - loss: 2.9416\n",
      "Epoch 54/100\n",
      "26/26 [==============================] - 9s 341ms/step - loss: 2.9224\n",
      "Epoch 55/100\n",
      "26/26 [==============================] - 9s 348ms/step - loss: 2.9403\n",
      "Epoch 56/100\n",
      "26/26 [==============================] - 10s 368ms/step - loss: 2.9366\n",
      "Epoch 57/100\n",
      "26/26 [==============================] - 9s 342ms/step - loss: 2.9343\n",
      "Epoch 58/100\n",
      "26/26 [==============================] - 9s 352ms/step - loss: 2.9246\n",
      "Epoch 59/100\n",
      "26/26 [==============================] - 9s 356ms/step - loss: 2.9453\n",
      "Epoch 60/100\n",
      "26/26 [==============================] - 9s 352ms/step - loss: 2.9187\n",
      "Epoch 61/100\n",
      "26/26 [==============================] - 9s 345ms/step - loss: 2.9307\n",
      "Epoch 62/100\n",
      "26/26 [==============================] - 9s 356ms/step - loss: 2.9493\n",
      "Epoch 63/100\n",
      "26/26 [==============================] - 9s 348ms/step - loss: 2.9377\n",
      "Epoch 64/100\n",
      "26/26 [==============================] - 9s 344ms/step - loss: 2.9331\n",
      "Epoch 65/100\n",
      "26/26 [==============================] - 9s 349ms/step - loss: 2.9427\n",
      "Epoch 66/100\n",
      "26/26 [==============================] - 9s 353ms/step - loss: 2.9279\n",
      "Epoch 67/100\n",
      "26/26 [==============================] - 9s 343ms/step - loss: 2.9234\n",
      "Epoch 68/100\n",
      "26/26 [==============================] - 9s 345ms/step - loss: 2.9233\n",
      "Epoch 69/100\n",
      "26/26 [==============================] - 9s 353ms/step - loss: 2.9219\n",
      "Epoch 70/100\n",
      "26/26 [==============================] - 9s 350ms/step - loss: 2.9216\n",
      "Epoch 71/100\n",
      "26/26 [==============================] - 9s 345ms/step - loss: 2.9408\n",
      "Epoch 72/100\n",
      "26/26 [==============================] - 9s 353ms/step - loss: 2.9320\n",
      "Epoch 73/100\n",
      "26/26 [==============================] - 9s 353ms/step - loss: 2.9384\n",
      "Epoch 74/100\n",
      "26/26 [==============================] - 9s 346ms/step - loss: 2.9518\n",
      "Epoch 75/100\n",
      "26/26 [==============================] - 9s 348ms/step - loss: 2.9415\n",
      "Epoch 76/100\n",
      "26/26 [==============================] - 9s 351ms/step - loss: 2.9472\n",
      "Epoch 77/100\n",
      "26/26 [==============================] - 9s 354ms/step - loss: 2.9471\n",
      "Epoch 78/100\n",
      "26/26 [==============================] - 9s 343ms/step - loss: 2.9242\n",
      "Epoch 79/100\n",
      "26/26 [==============================] - 9s 348ms/step - loss: 2.9212\n",
      "Epoch 80/100\n",
      "26/26 [==============================] - 9s 352ms/step - loss: 2.9369\n",
      "Epoch 81/100\n",
      "26/26 [==============================] - 9s 346ms/step - loss: 2.9445\n",
      "Epoch 82/100\n",
      "26/26 [==============================] - 9s 348ms/step - loss: 2.9457\n",
      "Epoch 83/100\n",
      "26/26 [==============================] - 9s 350ms/step - loss: 2.9507\n",
      "Epoch 84/100\n",
      "26/26 [==============================] - 9s 345ms/step - loss: 2.9499\n",
      "Epoch 85/100\n",
      "26/26 [==============================] - 9s 344ms/step - loss: 2.9302\n",
      "Epoch 86/100\n",
      "26/26 [==============================] - 9s 353ms/step - loss: 2.9467\n",
      "Epoch 87/100\n",
      "26/26 [==============================] - 9s 339ms/step - loss: 2.9293\n",
      "Epoch 88/100\n",
      "26/26 [==============================] - 9s 350ms/step - loss: 2.9470\n",
      "Epoch 89/100\n",
      "26/26 [==============================] - 9s 361ms/step - loss: 2.9394\n",
      "Epoch 90/100\n",
      "26/26 [==============================] - 9s 347ms/step - loss: 2.9411\n",
      "Epoch 91/100\n",
      "26/26 [==============================] - 9s 343ms/step - loss: 2.9199\n",
      "Epoch 92/100\n",
      "26/26 [==============================] - 9s 342ms/step - loss: 2.9401\n",
      "Epoch 93/100\n",
      "26/26 [==============================] - 9s 352ms/step - loss: 2.9330\n",
      "Epoch 94/100\n",
      "26/26 [==============================] - 9s 339ms/step - loss: 2.9177\n",
      "Epoch 95/100\n",
      "26/26 [==============================] - 9s 351ms/step - loss: 2.9229\n",
      "Epoch 96/100\n",
      "26/26 [==============================] - 9s 342ms/step - loss: 2.9328\n",
      "Epoch 97/100\n",
      "26/26 [==============================] - 9s 342ms/step - loss: 2.9166\n",
      "Epoch 98/100\n",
      "26/26 [==============================] - 9s 348ms/step - loss: 2.9298\n",
      "Epoch 99/100\n",
      "26/26 [==============================] - 9s 334ms/step - loss: 2.9221\n",
      "Epoch 100/100\n",
      "26/26 [==============================] - 9s 348ms/step - loss: 2.9296\n",
      "Model: \"model_1\"\n",
      "__________________________________________________________________________________________________\n",
      "Layer (type)                    Output Shape         Param #     Connected to                     \n",
      "==================================================================================================\n",
      "input_4 (InputLayer)            [(None, 47)]         0                                            \n",
      "__________________________________________________________________________________________________\n",
      "input_3 (InputLayer)            [(None, 300, 300, 1) 0                                            \n",
      "__________________________________________________________________________________________________\n",
      "embedding_1 (Embedding)         (None, 47, 256)      2470912     input_4[0][0]                    \n",
      "__________________________________________________________________________________________________\n",
      "dropout_2 (Dropout)             (None, 300, 300, 1)  0           input_3[0][0]                    \n",
      "__________________________________________________________________________________________________\n",
      "dropout_3 (Dropout)             (None, 47, 256)      0           embedding_1[0][0]                \n",
      "__________________________________________________________________________________________________\n",
      "dense_3 (Dense)                 (None, 300, 300, 256 512         dropout_2[0][0]                  \n",
      "__________________________________________________________________________________________________\n",
      "lstm_1 (LSTM)                   (None, 256)          525312      dropout_3[0][0]                  \n",
      "__________________________________________________________________________________________________\n",
      "add_1 (Add)                     (None, 300, 300, 256 0           dense_3[0][0]                    \n",
      "                                                                 lstm_1[0][0]                     \n",
      "__________________________________________________________________________________________________\n",
      "dense_4 (Dense)                 (None, 300, 300, 256 65792       add_1[0][0]                      \n",
      "__________________________________________________________________________________________________\n",
      "dense_5 (Dense)                 (None, 300, 300, 965 2480564     dense_4[0][0]                    \n",
      "==================================================================================================\n",
      "Total params: 5,543,092\n",
      "Trainable params: 5,543,092\n",
      "Non-trainable params: 0\n",
      "__________________________________________________________________________________________________\n",
      "None\n"
     ]
    }
   ],
   "source": [
    "model.fit([X1, X2], y, epochs = 100, batch_size = 256) \n",
    "    \n",
    "# summarize model\n",
    "print(model.summary())"
   ]
  },
  {
   "cell_type": "markdown",
   "metadata": {},
   "source": [
    "### Testing"
   ]
  },
  {
   "cell_type": "code",
   "execution_count": 15,
   "metadata": {},
   "outputs": [
    {
     "data": {
      "text/plain": [
       "4448"
      ]
     },
     "execution_count": 15,
     "metadata": {},
     "output_type": "execute_result"
    }
   ],
   "source": [
    "def create_tokenizer(descriptions):\n",
    "    desc=list()\n",
    "    for i in range(m+1, len(memes)):\n",
    "        desc.append(memes['caption'][i])\n",
    "    tokenizer = Tokenizer()\n",
    "    # fit_on_texts: Updates internal vocabulary based on a list of texts. This method creates the vocabulary \n",
    "    # index based on word frequency\n",
    "    tokenizer.fit_on_texts(desc)\n",
    "    return tokenizer\n",
    "\n",
    "tokenizer = create_tokenizer(memes['caption'])\n",
    "vocab_size = len(tokenizer.word_index) + 1\n",
    "vocab_size"
   ]
  },
  {
   "cell_type": "code",
   "execution_count": 16,
   "metadata": {},
   "outputs": [
    {
     "data": {
      "text/plain": [
       "46"
      ]
     },
     "execution_count": 16,
     "metadata": {},
     "output_type": "execute_result"
    }
   ],
   "source": [
    "def max_length(descriptions):\n",
    "    desc=list()\n",
    "    for i in range(m+1, len(memes)):\n",
    "        desc.append(memes['caption'][i])\n",
    "    return max(len(d.split()) for d in desc)\n",
    "\n",
    "max_length = max_length(memes['caption'])\n",
    "max_length"
   ]
  },
  {
   "cell_type": "code",
   "execution_count": 17,
   "metadata": {},
   "outputs": [],
   "source": [
    "def word_for_id(integer, tokenizer):\n",
    "    for word, index in tokenizer.word_index.items():\n",
    "        if index == integer:\n",
    "            return word\n",
    "    return None"
   ]
  },
  {
   "cell_type": "code",
   "execution_count": 18,
   "metadata": {
    "scrolled": true
   },
   "outputs": [],
   "source": [
    "def extract_features(images):\n",
    "    image = imread(images, as_gray=True) \n",
    "    s=(300,300)\n",
    "    image = cv2.resize(image,s)\n",
    "        #print(image.shape)\n",
    "    features = np.reshape(image, (300*300))\n",
    "    return features"
   ]
  },
  {
   "cell_type": "code",
   "execution_count": 19,
   "metadata": {},
   "outputs": [],
   "source": [
    "model = load_model('modelTR.h5')"
   ]
  },
  {
   "cell_type": "code",
   "execution_count": 28,
   "metadata": {},
   "outputs": [],
   "source": [
    "# img_path=\"/Users/anjalisingh/Downloads/memes_final_27.7/finalmemes_bw/meme8313.jpg\" --> 178967385\n",
    "img_path=\"/Users/anjalisingh/Downloads/memes_final_27.7/finalmemes_bw/meme8313.jpg\" # --> 178967385\n",
    "def generate_desc(model, tokenizer, photo, max_length):\n",
    "    in_text = 'start'\n",
    "    for i in range(max_length):\n",
    "        sequence = tokenizer.texts_to_sequences([in_text])[0]\n",
    "        sequence = pad_sequences([sequence], maxlen=47)\n",
    "        print(sequence.shape, photo.shape)\n",
    "        pred = model.predict([photo,sequence], verbose=0)\n",
    "        pred = np.argmax(pred)\n",
    "        print(pred)\n",
    "        word = word_for_id(pred, tokenizer)\n",
    "        print(word)\n",
    "        if word is None:\n",
    "            break\n",
    "        in_text += ' ' + word\n",
    "        if word == 'end':\n",
    "            break\n",
    "    return in_text\n",
    "\n",
    "photo = extract_features(img_path)\n",
    "photo.resize(1, 300, 300, 1)"
   ]
  },
  {
   "cell_type": "code",
   "execution_count": 29,
   "metadata": {
    "scrolled": true
   },
   "outputs": [
    {
     "name": "stdout",
     "output_type": "stream",
     "text": [
      "(1, 47) (1, 300, 300, 1)\n",
      "178967385\n",
      "None\n"
     ]
    }
   ],
   "source": [
    "t = generate_desc(model, tokenizer, photo,max_length)"
   ]
  },
  {
   "cell_type": "code",
   "execution_count": 88,
   "metadata": {},
   "outputs": [
    {
     "data": {
      "text/plain": [
       "'start'"
      ]
     },
     "execution_count": 88,
     "metadata": {},
     "output_type": "execute_result"
    }
   ],
   "source": [
    "t"
   ]
  },
  {
   "cell_type": "code",
   "execution_count": null,
   "metadata": {},
   "outputs": [],
   "source": []
  }
 ],
 "metadata": {
  "kernelspec": {
   "display_name": "Python 3",
   "language": "python",
   "name": "python3"
  },
  "language_info": {
   "codemirror_mode": {
    "name": "ipython",
    "version": 3
   },
   "file_extension": ".py",
   "mimetype": "text/x-python",
   "name": "python",
   "nbconvert_exporter": "python",
   "pygments_lexer": "ipython3",
   "version": "3.7.7"
  }
 },
 "nbformat": 4,
 "nbformat_minor": 4
}
