{
 "cells": [
  {
   "cell_type": "code",
   "execution_count": 1,
   "metadata": {},
   "outputs": [
    {
     "name": "stderr",
     "output_type": "stream",
     "text": [
      "0it [00:00, ?it/s]/usr/local/lib/python3.7/site-packages/tqdm/std.py:706: FutureWarning: The Panel class is removed from pandas. Accessing it from the top-level namespace will also be removed in the next version\n",
      "  from pandas import Panel\n"
     ]
    }
   ],
   "source": [
    "import string \n",
    "import numpy as np\n",
    "from PIL import Image\n",
    "import os\n",
    "from pickle import dump, load\n",
    "import matplotlib.pyplot as plt\n",
    "\n",
    "from keras.applications.inception_v3 import InceptionV3, preprocess_input \n",
    "from tensorflow.keras.preprocessing.image import load_img, img_to_array\n",
    "from keras.preprocessing.text import Tokenizer\n",
    "from keras.preprocessing.sequence import pad_sequences\n",
    "from keras.utils import to_categorical\n",
    "from keras.layers.merge import add\n",
    "from keras.models import Model, load_model\n",
    "from keras.layers import Input, Dense, LSTM, Embedding, Dropout\n",
    "from keras.preprocessing.text import Tokenizer\n",
    "from keras.utils import plot_model\n",
    "\n",
    "# small library for seeing the progress of loops.\n",
    "#from tqdm import tqdm_notebook as tqdm\n",
    "from tqdm import tqdm\n",
    "tqdm().pandas()"
   ]
  },
  {
   "cell_type": "code",
   "execution_count": 2,
   "metadata": {},
   "outputs": [],
   "source": [
    "PathText = '/Users/anjalisingh/Documents/ImageCaptionGenerator/Description_of_images/Flickr8k.token.txt'"
   ]
  },
  {
   "cell_type": "code",
   "execution_count": 3,
   "metadata": {},
   "outputs": [],
   "source": [
    "imagePath = '/Users/anjalisingh/Documents/ImageCaptionGenerator/Flicker8k_Dataset'"
   ]
  },
  {
   "cell_type": "code",
   "execution_count": 4,
   "metadata": {},
   "outputs": [],
   "source": [
    "# Loading a text file into memory Opening the file as read only\n",
    "def load_doc(PathText):\n",
    "    file = open(PathText, 'r')\n",
    "    text = file.read()\n",
    "    file.close()\n",
    "    return text\n",
    "\n",
    "TokenText = load_doc(PathText)"
   ]
  },
  {
   "cell_type": "code",
   "execution_count": 5,
   "metadata": {},
   "outputs": [
    {
     "name": "stderr",
     "output_type": "stream",
     "text": [
      "0it [00:00, ?it/s]\n"
     ]
    }
   ],
   "source": [
    "# get all imgs with their captions \n",
    "def all_img_captions(PathText):\n",
    "    captions = TokenText.split('\\n')\n",
    "    descriptions = {}\n",
    "    for caption in captions[:-1]:          # all the captions in the list captions so we triversing through it\n",
    "        img, caption = caption.split('\\t')\n",
    "        if img[:-2] not in descriptions:    \n",
    "            # img contains name of the img#captionNumber caption number\n",
    "            # represents the numberth of the caption of a particular image \n",
    "            # as an image contains 5 captions each. \n",
    "            # img[from starting: every character except for last 2 (#captionNumber)]\n",
    "            descriptions[img[:-2]] = [caption]\n",
    "        else:\n",
    "            # arranging caption and img name accordingly \n",
    "            descriptions[img[:-2]].append(caption)\n",
    "    return descriptions \n",
    "\n",
    "descriptions = all_img_captions(TokenText)"
   ]
  },
  {
   "cell_type": "code",
   "execution_count": 6,
   "metadata": {},
   "outputs": [
    {
     "name": "stdout",
     "output_type": "stream",
     "text": [
      "Length of descriptions = 8092\n"
     ]
    }
   ],
   "source": [
    "print(\"Length of descriptions =\", len(descriptions))"
   ]
  },
  {
   "cell_type": "code",
   "execution_count": 7,
   "metadata": {},
   "outputs": [],
   "source": [
    "def cleaning_text(captions):\n",
    "    table = str.maketrans('','', string.punctuation)\n",
    "    for img, caps in captions.items():\n",
    "        for i, img_caption in enumerate(caps):   \n",
    "            # enumerate takes all the 5 captions of a particular \n",
    "            # image and gives then index from 0 to 4\n",
    "            img_caption.replace(\"-\",\" \")\n",
    "            desc = img_caption.split()\n",
    "            # converts to lowercase\n",
    "            desc = [word.lower() for word in desc]\n",
    "            # remove punctuation from each token \n",
    "            desc = [word.translate(table) for word in desc]\n",
    "            # remove hanging 's and a\n",
    "            desc = [word for word in desc if(len(word)>1)]\n",
    "            # remove tokens with numbers in them\n",
    "            desc = [word for word in desc if(word.isalpha())]\n",
    "            # convert back to string           \n",
    "            img_caption = ' '.join(desc)\n",
    "\n",
    "            captions[img][i] = img_caption\n",
    "    return captions\n",
    "\n",
    "clean_description = cleaning_text(descriptions)"
   ]
  },
  {
   "cell_type": "code",
   "execution_count": 8,
   "metadata": {},
   "outputs": [
    {
     "name": "stdout",
     "output_type": "stream",
     "text": [
      "Length of descriptions = 8092\n"
     ]
    }
   ],
   "source": [
    "print(\"Length of descriptions =\", len(clean_description))"
   ]
  },
  {
   "cell_type": "code",
   "execution_count": 9,
   "metadata": {},
   "outputs": [],
   "source": [
    "# build vocabulary of all the unique words\n",
    "def text_vocabulary(descriptions):\n",
    "    vocab = set()    # using set because it won't allow duplicate values\n",
    "    for key in descriptions.keys():\n",
    "        [vocab.update(d.split()) for d in descriptions[key]]\n",
    "    return vocab\n",
    "\n",
    "vocabulary = text_vocabulary(clean_description)"
   ]
  },
  {
   "cell_type": "code",
   "execution_count": 10,
   "metadata": {},
   "outputs": [],
   "source": [
    "def save_descriptions(descriptions, PathText):\n",
    "    lines = list()\n",
    "    for key, desc_list in descriptions.items():\n",
    "        for desc in desc_list:\n",
    "            lines.append(key + '\\t' + desc)\n",
    "        data = \"\\n\".join(lines)\n",
    "        file = open(PathText, \"w\")\n",
    "        file.write(data)\n",
    "        file.close()\n",
    "\n",
    "\n",
    "save_descriptions(clean_description, \"descriptions.txt\")"
   ]
  },
  {
   "cell_type": "code",
   "execution_count": 11,
   "metadata": {},
   "outputs": [],
   "source": [
    "def extract_features_In(directory):\n",
    "    model_In = InceptionV3(include_top=False, weights='imagenet')\n",
    "    features = {}\n",
    "    for img in tqdm(os.listdir(directory)):\n",
    "        filename = directory + \"/\"+img\n",
    "        image = Image.open(filename)\n",
    "        image = image.resize((299, 299))\n",
    "        image = np.expand_dims(image, axis=0)\n",
    "        image = image/127.5\n",
    "        image = image - 1.0\n",
    "        \n",
    "        feature = model_In.predict(image)\n",
    "        features[img] = feature\n",
    "    return features \n",
    "\n",
    "# features_In = extract_features_In(imagePath)\n",
    "# dump(features_In, open(\"features_In.p\", \"wb\"))\n",
    "features_In = load(open(\"features_In.p\", \"rb\"))"
   ]
  },
  {
   "cell_type": "code",
   "execution_count": 12,
   "metadata": {},
   "outputs": [],
   "source": [
    "# os.listdir(imagePath)"
   ]
  },
  {
   "cell_type": "code",
   "execution_count": 13,
   "metadata": {},
   "outputs": [],
   "source": [
    "for img in os.listdir(imagePath):\n",
    "    filename = imagePath + \"/\" + img\n",
    "#     print(filename)"
   ]
  },
  {
   "cell_type": "code",
   "execution_count": 14,
   "metadata": {},
   "outputs": [],
   "source": [
    "trainText = '/Users/anjalisingh/Documents/ImageCaptionGenerator/Description_of_images/Flickr_8k.trainImages.txt'"
   ]
  },
  {
   "cell_type": "code",
   "execution_count": 15,
   "metadata": {},
   "outputs": [],
   "source": [
    "# load the data\n",
    "def load_photos(filename):\n",
    "    file = load_doc(filename)\n",
    "    photos = file.split(\"\\n\")[:-1]\n",
    "    return photos\n",
    "train_imgs = load_photos(trainText)"
   ]
  },
  {
   "cell_type": "code",
   "execution_count": 16,
   "metadata": {},
   "outputs": [],
   "source": [
    "# description.txt contains all the image name and description\n",
    "# Now, by using this function we will take out the ones on which we need to train our model\n",
    "def load_clean_descriptions(filename, photos):\n",
    "    # loading clean_descriptions\n",
    "    file = load_doc(filename)\n",
    "    descriptions = {}\n",
    "    for line in file.split(\"\\n\"):\n",
    "        words = line.split()\n",
    "        if len(words)<1:\n",
    "            continue\n",
    "        \n",
    "        image, image_caption = words[0], words[1:]\n",
    "        if image in photos:\n",
    "            if image not in descriptions:\n",
    "                descriptions[image] = []\n",
    "            \n",
    "            desc = '<start>' + \" \".join(image_caption) + '<end>'\n",
    "            descriptions[image].append(desc)\n",
    "            \n",
    "    return descriptions\n",
    "\n",
    "train_descriptions = load_clean_descriptions(\"descriptions.txt\", train_imgs)"
   ]
  },
  {
   "cell_type": "code",
   "execution_count": 17,
   "metadata": {},
   "outputs": [],
   "source": [
    "def load_features_In(photos):\n",
    "    all_features = load(open(\"features_In.p\", \"rb\"))\n",
    "    features_In = {k:all_features[k] for k in photos}\n",
    "    return features_In\n",
    "\n",
    "train_features_In = load_features_In(train_imgs)"
   ]
  },
  {
   "cell_type": "code",
   "execution_count": 18,
   "metadata": {},
   "outputs": [],
   "source": [
    "def dict_to_list(descriptions):\n",
    "    all_desc = []\n",
    "    for key in descriptions.keys():\n",
    "        [all_desc.append(d) for d in descriptions[key]]\n",
    "    return all_desc\n",
    "\n",
    "desc_list = dict_to_list(descriptions)\n",
    "# desc_list"
   ]
  },
  {
   "cell_type": "code",
   "execution_count": 19,
   "metadata": {},
   "outputs": [
    {
     "data": {
      "text/plain": [
       "7577"
      ]
     },
     "execution_count": 19,
     "metadata": {},
     "output_type": "execute_result"
    }
   ],
   "source": [
    "def create_tokenizer_In(descriptions):\n",
    "    desc_list = dict_to_list(descriptions)\n",
    "    tokenizer = Tokenizer()\n",
    "    tokenizer.fit_on_texts(desc_list)\n",
    "    return tokenizer\n",
    "\n",
    "tokenizer = create_tokenizer_In(train_descriptions)\n",
    "dump(tokenizer, open('tokenizer_In.p', 'wb'))\n",
    "vocab_size = len(tokenizer.word_index) + 1\n",
    "vocab_size"
   ]
  },
  {
   "cell_type": "code",
   "execution_count": 20,
   "metadata": {},
   "outputs": [
    {
     "data": {
      "text/plain": [
       "32"
      ]
     },
     "execution_count": 20,
     "metadata": {},
     "output_type": "execute_result"
    }
   ],
   "source": [
    "def max_length(descriptions):\n",
    "    desc_list = dict_to_list(descriptions)\n",
    "    return max(len(d.split()) for d in desc_list)\n",
    "\n",
    "max_length = max_length(descriptions)\n",
    "max_length"
   ]
  },
  {
   "cell_type": "code",
   "execution_count": null,
   "metadata": {},
   "outputs": [],
   "source": [
    "X1, X2, y = list(), list(), list()\n",
    "# walk through each description for the image\n",
    "for key, desc_list in train_descriptions.items():\n",
    "    feature = features_In[key][0]\n",
    "        # encode the sequence\n",
    "    for cap in desc_list:\n",
    "        seq = tokenizer.texts_to_sequences([cap])[0]\n",
    "        # split one sequence into multiple X,y pairs\n",
    "        for i in range(1, len(seq)):\n",
    "            # split into input and output pair\n",
    "            in_seq, out_seq = seq[:i], seq[i]\n",
    "            # pad input sequence\n",
    "            in_seq = pad_sequences([in_seq], maxlen=max_length)[0]\n",
    "            # encode output sequence\n",
    "            out_seq = to_categorical([out_seq], num_classes=vocab_size)[0]\n",
    "            # store\n",
    "            X1.append(feature)\n",
    "            X2.append(in_seq)\n",
    "            y.append(out_seq)\n",
    "\n",
    "            \n",
    "# kernel died\n",
    "X2 = np.array(X2)\n",
    "X1 = np.array(X1)\n",
    "y = np.array(y)\n"
   ]
  },
  {
   "cell_type": "code",
   "execution_count": null,
   "metadata": {},
   "outputs": [],
   "source": [
    "# features from the CNN model squeezed from 2048 to 256 nodes\n",
    "inputs1 = Input(shape=(4096,))\n",
    "fe1 = Dropout(0.5)(inputs1)\n",
    "fe2 = Dense(256, activation='relu')(fe1)\n",
    "    \n",
    "# LSTM sequence Model\n",
    "inputs2 = Input(shape=(4096,))\n",
    "se1 = Embedding(vocab_size, 256, mask_zero=True)(inputs2)\n",
    "se2 = Dropout(0.5)(se1)\n",
    "se3 = LSTM(256)(se2)\n",
    "    \n",
    "# Merging both models\n",
    "decoder1 = add([fe2, se3])\n",
    "decoder2 = Dense(256, activation='relu')(decoder1)\n",
    "outputs = Dense(vocab_size, activation='softmax')(decoder2)\n",
    "    \n",
    "# tie it together [image, seq][word]\n",
    "model = Model(inputs=[inputs1, inputs2], outputs=outputs)\n",
    "model.compile(loss='binary_crossentropy', optimizer='adam')\n",
    "model.fit([X1, X2], y, epochs = 20, batch_size = 256) \n",
    "    \n",
    "# summarize model\n",
    "print(model.summary())"
   ]
  },
  {
   "cell_type": "code",
   "execution_count": null,
   "metadata": {},
   "outputs": [],
   "source": []
  },
  {
   "cell_type": "code",
   "execution_count": null,
   "metadata": {},
   "outputs": [],
   "source": []
  },
  {
   "cell_type": "code",
   "execution_count": null,
   "metadata": {},
   "outputs": [],
   "source": []
  },
  {
   "cell_type": "code",
   "execution_count": null,
   "metadata": {},
   "outputs": [],
   "source": []
  }
 ],
 "metadata": {
  "kernelspec": {
   "display_name": "Python 3",
   "language": "python",
   "name": "python3"
  },
  "language_info": {
   "codemirror_mode": {
    "name": "ipython",
    "version": 3
   },
   "file_extension": ".py",
   "mimetype": "text/x-python",
   "name": "python",
   "nbconvert_exporter": "python",
   "pygments_lexer": "ipython3",
   "version": "3.7.7"
  }
 },
 "nbformat": 4,
 "nbformat_minor": 4
}
